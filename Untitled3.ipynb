{
 "cells": [
  {
   "cell_type": "markdown",
   "id": "e382f953",
   "metadata": {},
   "source": [
    "# Activity to be submitted week 5 (GOH CHEN HOW)"
   ]
  },
  {
   "cell_type": "code",
   "execution_count": 1,
   "id": "d0382015",
   "metadata": {},
   "outputs": [
    {
     "data": {
      "text/plain": [
       "True"
      ]
     },
     "execution_count": 1,
     "metadata": {},
     "output_type": "execute_result"
    }
   ],
   "source": [
    "import sys\n",
    "# Python 3.7 is required\n",
    "assert sys.version_info >= (3,7)\n",
    "\n",
    "\n",
    "\n",
    "import cv2 as cv\n",
    "import numpy as np\n",
    "\n",
    "# For reproducibility,\n",
    "np.random.seed(99)\n",
    "\n",
    "# Make sure that optimization is enabled\n",
    "if not cv.useOptimized():\n",
    "    cv.setUseOptimized(True)\n",
    "\n",
    "cv.useOptimized()"
   ]
  },
  {
   "cell_type": "code",
   "execution_count": 2,
   "id": "9a19f9b6",
   "metadata": {},
   "outputs": [],
   "source": [
    "import os \n",
    "os.chdir('C:/Users/chenh/Desktop/y2s3/UCCC2513 Mini Project/Week 4/dog')"
   ]
  },
  {
   "cell_type": "markdown",
   "id": "2ffcd00b",
   "metadata": {},
   "source": [
    "# Q1(First Method)"
   ]
  },
  {
   "cell_type": "code",
   "execution_count": null,
   "id": "c39bf68a",
   "metadata": {},
   "outputs": [],
   "source": [
    "img = cv.imread('dog.jfif')    # default bgr \n",
    "img_grayscale = cv.imread('dog.jfif', 0)    # grayscale\n",
    "\n",
    "cv.imshow('original',img)\n",
    "cv.imshow('gray', img_grayscale)\n",
    "cv.waitKey(0)\n",
    "\n",
    "cv.destroyAllWindows()"
   ]
  },
  {
   "cell_type": "markdown",
   "id": "91e87e88",
   "metadata": {},
   "source": [
    "# Q1(Second method)"
   ]
  },
  {
   "cell_type": "code",
   "execution_count": null,
   "id": "e679d382",
   "metadata": {},
   "outputs": [],
   "source": [
    "import cv2\n",
    "import numpy as np\n",
    "\n",
    "im = cv2.imread('dog.jfif')\n",
    "img = cv2.imread('dog.jfif',0)\n",
    "\n",
    "# Convert grayscale image to 3-channel image,so that they can be stacked together    \n",
    "imgc = cv2.cvtColor(img,cv2.COLOR_GRAY2BGR)\n",
    "both = np.hstack((im,imgc))\n",
    "\n",
    "cv2.imshow('imgc',both)\n",
    "cv2.waitKey(0)\n",
    "cv2.destroyAllWindows()"
   ]
  },
  {
   "cell_type": "markdown",
   "id": "08bf5442",
   "metadata": {},
   "source": [
    "# Q2 answer"
   ]
  },
  {
   "cell_type": "code",
   "execution_count": 4,
   "id": "5f2fa9c9",
   "metadata": {},
   "outputs": [],
   "source": [
    "import os \n",
    "os.chdir('C:/Users/chenh/Desktop/y2s3/UCCC2513 Mini Project/Week 4')"
   ]
  },
  {
   "cell_type": "code",
   "execution_count": 5,
   "id": "f9a37b32",
   "metadata": {},
   "outputs": [],
   "source": [
    "import cv2 \n",
    "\n",
    "def rescale_frame(frame, percent=75):\n",
    "    width = int(frame.shape[1] * percent/ 100)\n",
    "    height = int(frame.shape[0] * percent/ 100)\n",
    "    dim = (width, height)\n",
    "    return cv2.resize(frame, dim, interpolation =cv2.INTER_AREA)\n",
    "\n",
    "# Create a VideoCapture object\n",
    "cap = cv.VideoCapture('img_pexels.mp4')\n",
    "\n",
    "# Check if the object has been created successfully\n",
    "if not cap.isOpened():\n",
    "    print(\"Unable to create video\")\n",
    "\n",
    "frame_width = int(cap.get(3))\n",
    "frame_height = int(cap.get(4))\n",
    "   \n",
    "size = (frame_width, frame_height)\n",
    "    \n",
    "result = cv2.VideoWriter('smaller_img_pexels.avi', \n",
    "                         cv2.VideoWriter_fourcc(*'MJPG'),\n",
    "                         10, size)\n",
    "\n",
    "# Read until the video is completed.\n",
    "while cap.isOpened():\n",
    "    ret, frame = cap.read()\n",
    "\n",
    "    # if frame is read then ret is True\n",
    "    if not ret:\n",
    "        print(\"Can't receive frame.\")\n",
    "        break\n",
    "    \n",
    "    New_video = rescale_frame(frame, percent=75)\n",
    "    cv2.imshow('New_video', New_video)\n",
    "    # Press Esc key to exit (27 is ASCII code for Esc)\n",
    "    if cv.waitKey(1) & 0xFF == 27:\n",
    "        break\n",
    "             \n",
    "\n",
    "# destroy the constructor\n",
    "cap.release()\n",
    "result.release()\n",
    "cv2.destroyAllWindows()"
   ]
  },
  {
   "cell_type": "markdown",
   "id": "404df50d",
   "metadata": {},
   "source": [
    "# Q3 Answer"
   ]
  },
  {
   "cell_type": "code",
   "execution_count": 7,
   "id": "08d03f92",
   "metadata": {},
   "outputs": [],
   "source": [
    "import numpy as np\n",
    "random_array = np.random.randint(1, 100, size=(600, 600, 3),dtype=np.uint8)\n",
    "array_color=np.array(random_array)\n",
    "img =cv.cvtColor(array_color, cv.COLOR_BGR2GRAY)\n",
    "                          \n",
    "cv.imshow('color',array_color)\n",
    "cv.imshow('GRAY',img)\n",
    "\n",
    "cv.waitKey(0)\n",
    "cv.destroyAllWindows()"
   ]
  },
  {
   "cell_type": "code",
   "execution_count": null,
   "id": "c99cf6aa",
   "metadata": {},
   "outputs": [],
   "source": []
  }
 ],
 "metadata": {
  "kernelspec": {
   "display_name": "Python 3 (ipykernel)",
   "language": "python",
   "name": "python3"
  },
  "language_info": {
   "codemirror_mode": {
    "name": "ipython",
    "version": 3
   },
   "file_extension": ".py",
   "mimetype": "text/x-python",
   "name": "python",
   "nbconvert_exporter": "python",
   "pygments_lexer": "ipython3",
   "version": "3.9.12"
  }
 },
 "nbformat": 4,
 "nbformat_minor": 5
}
