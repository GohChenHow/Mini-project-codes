{
 "cells": [
  {
   "cell_type": "markdown",
   "id": "e382f953",
   "metadata": {},
   "source": [
    "# Suggest two ways and write codes to display two images simultaneously. You can use any image snapped from your handphone, downloaded from internet or images from week 4 materials on MS teams. The two images are a color image and its corresponding grayscale image.\n",
    "\n",
    "# Write codes that performs the following:\n",
    "\n",
    "# Load the video “img_pexels.mp4” into the Python environment and display the videos with smaller frames. You can specify an arbitrary frame rate.\n",
    "# Save it as a separate files: “smaller_img_pexels.avi”\n",
    "\n",
    "# Create a random noise color and grayscale image. You can set a custom width and height. (Hint: use Numpy functions like np.array and np.reshape.)"
   ]
  },
  {
   "cell_type": "code",
   "execution_count": null,
   "id": "d0382015",
   "metadata": {},
   "outputs": [],
   "source": [
    "import sys\n",
    "# Python 3.7 is required\n",
    "assert sys.version_info >= (3,7)\n",
    "\n",
    "\n",
    "\n",
    "import cv2 as cv\n",
    "import numpy as np\n",
    "\n",
    "# For reproducibility,\n",
    "np.random.seed(99)\n",
    "\n",
    "# Make sure that optimization is enabled\n",
    "if not cv.useOptimized():\n",
    "    cv.setUseOptimized(True)\n",
    "\n",
    "cv.useOptimized()"
   ]
  },
  {
   "cell_type": "code",
   "execution_count": null,
   "id": "9a19f9b6",
   "metadata": {},
   "outputs": [],
   "source": [
    "import os \n",
    "os.chdir('C:/Users/chenh/Desktop/y2s3/UCCC2513 Mini Project/Week 4/dog')"
   ]
  },
  {
   "cell_type": "markdown",
   "id": "2ffcd00b",
   "metadata": {},
   "source": [
    "# Q1(First Method)"
   ]
  },
  {
   "cell_type": "code",
   "execution_count": null,
   "id": "c39bf68a",
   "metadata": {},
   "outputs": [],
   "source": [
    "img = cv.imread('dog.jfif')    # default bgr \n",
    "img_grayscale = cv.imread('dog.jfif', 0)    # grayscale\n",
    "\n",
    "cv.imshow('original',img)\n",
    "cv.imshow('gray', img_grayscale)\n",
    "cv.waitKey(0)\n",
    "\n",
    "cv.destroyAllWindows()"
   ]
  },
  {
   "cell_type": "markdown",
   "id": "91e87e88",
   "metadata": {},
   "source": [
    "# Q1(Second method)"
   ]
  },
  {
   "cell_type": "code",
   "execution_count": null,
   "id": "e679d382",
   "metadata": {},
   "outputs": [],
   "source": [
    "import cv2\n",
    "import numpy as np\n",
    "\n",
    "im = cv2.imread('dog.jfif')\n",
    "img = cv2.imread('dog.jfif',0)\n",
    "\n",
    "# Convert grayscale image to 3-channel image,so that they can be stacked together    \n",
    "imgc = cv2.cvtColor(img,cv2.COLOR_GRAY2BGR)\n",
    "both = np.hstack((im,imgc))\n",
    "\n",
    "cv2.imshow('imgc',both)\n",
    "cv2.waitKey(0)\n",
    "cv2.destroyAllWindows()"
   ]
  },
  {
   "cell_type": "code",
   "execution_count": null,
   "id": "5f2fa9c9",
   "metadata": {},
   "outputs": [],
   "source": [
    "import os \n",
    "os.chdir('C:/Users/chenh/Desktop/y2s3/UCCC2513 Mini Project/Week 4')"
   ]
  },
  {
   "cell_type": "code",
   "execution_count": null,
   "id": "8cc6648a",
   "metadata": {},
   "outputs": [],
   "source": [
    "import cv2 \n",
    "vidcap = cv2.VideoCapture('img_pexels.mp4') \n",
    "def getFrame(sec): \n",
    "    vidcap.set(cv2.CAP_PROP_POS_MSEC,sec*1000) \n",
    "    hasFrames,image = vidcap.read() \n",
    "    if hasFrames: \n",
    "        cv2.imwrite(\"frame \"+str(sec)+\" sec.jpg\", image)     # save frame as JPG file \n",
    "    return hasFrames \n",
    "sec = 0 \n",
    "frameRate = 0.5\n",
    "success = getFrame(sec) \n",
    "while success: \n",
    "    sec = sec + frameRate \n",
    "    sec = round(sec, 2) \n",
    "    success = getFrame(sec) "
   ]
  },
  {
   "cell_type": "code",
   "execution_count": null,
   "id": "f9a37b32",
   "metadata": {},
   "outputs": [],
   "source": [
    "import cv2 \n",
    "\n",
    "def rescale_frame(frame, percent=75):\n",
    "    width = int(frame.shape[1] * percent/ 100)\n",
    "    height = int(frame.shape[0] * percent/ 100)\n",
    "    dim = (width, height)\n",
    "    return cv2.resize(frame, dim, interpolation =cv2.INTER_AREA)\n",
    "\n",
    "# Create a VideoCapture object\n",
    "cap = cv.VideoCapture('img_pexels.mp4')\n",
    "\n",
    "# Check if the object has been created successfully\n",
    "if not cap.isOpened():\n",
    "    print(\"Unable to create video\")\n",
    "\n",
    "frame_width = int(cap.get(3))\n",
    "frame_height = int(cap.get(4))\n",
    "   \n",
    "size = (frame_width, frame_height)\n",
    "    \n",
    "result = cv2.VideoWriter('smaller_img_pexels.avi', \n",
    "                         cv2.VideoWriter_fourcc(*'MJPG'),\n",
    "                         10, size)\n",
    "\n",
    "# Read until the video is completed.\n",
    "while cap.isOpened():\n",
    "    ret, frame = cap.read()\n",
    "\n",
    "    # if frame is read then ret is True\n",
    "    if not ret:\n",
    "        print(\"Can't receive frame.\")\n",
    "        break\n",
    "    \n",
    "    frame75 = rescale_frame(frame, percent=75)\n",
    "    cv2.imshow('frame75', frame75)\n",
    "    # Press Esc key to exit (27 is ASCII code for Esc)\n",
    "    if cv.waitKey(1) & 0xFF == 27:\n",
    "        break\n",
    "             \n",
    "\n",
    "# destroy the constructor\n",
    "cap.release()\n",
    "result.release()\n",
    "cv2.destroyAllWindows()"
   ]
  },
  {
   "cell_type": "code",
   "execution_count": 14,
   "id": "24dc6a95",
   "metadata": {},
   "outputs": [
    {
     "data": {
      "text/plain": [
       "'C:\\\\Users\\\\chenh\\\\Desktop\\\\y2s3\\\\UCCC2513 Mini Project\\\\Week 4'"
      ]
     },
     "execution_count": 14,
     "metadata": {},
     "output_type": "execute_result"
    }
   ],
   "source": [
    "%pwd"
   ]
  },
  {
   "cell_type": "code",
   "execution_count": 16,
   "id": "da1c2f25",
   "metadata": {},
   "outputs": [
    {
     "data": {
      "text/plain": [
       "-1"
      ]
     },
     "execution_count": 16,
     "metadata": {},
     "output_type": "execute_result"
    }
   ],
   "source": [
    "import cv2\n",
    "import numpy as np\n",
    "\n",
    "height = 512\n",
    "width = 512\n",
    "img = np.zeros((height,width,3), np.uint8)\n",
    "\n",
    "cv2.imshow('Binary',img)\n",
    "cv2.waitKey(0)"
   ]
  },
  {
   "cell_type": "code",
   "execution_count": 18,
   "id": "d0551f42",
   "metadata": {},
   "outputs": [],
   "source": [
    "import numpy as np\n",
    "from PIL import Image\n",
    "random_array = np.random.randint(low=0, high=255,size=(250,250),dtype=np.uint8)\n",
    "random_im = Image.fromarray(random_array)\n",
    "random_im.show()"
   ]
  },
  {
   "cell_type": "code",
   "execution_count": 19,
   "id": "56239006",
   "metadata": {},
   "outputs": [],
   "source": [
    "import numpy as np\n",
    "from PIL import Image\n",
    "random_array = np.random.randint(low=0, high=255,size=(250,250),dtype=np.uint8)\n",
    "random_im = Image.fromarray(random_array)\n",
    "random_im.show()"
   ]
  },
  {
   "cell_type": "code",
   "execution_count": 23,
   "id": "3cc089f9",
   "metadata": {},
   "outputs": [
    {
     "name": "stdout",
     "output_type": "stream",
     "text": [
      "<class 'numpy.ndarray'>\n",
      "(737280,)\n",
      "(1024, 720)\n",
      "[[  0   1   2 ... 205 206 207]\n",
      " [208 209 210 ... 157 158 159]\n",
      " [160 161 162 ... 109 110 111]\n",
      " ...\n",
      " [144 145 146 ...  93  94  95]\n",
      " [ 96  97  98 ...  45  46  47]\n",
      " [ 48  49  50 ... 253 254 255]]\n"
     ]
    }
   ],
   "source": [
    "# Python program to convert\n",
    "# numpy array to image\n",
    "  \n",
    "# import required libraries\n",
    "import numpy as np\n",
    "from PIL import Image as im\n",
    "  \n",
    "# define a main function\n",
    "def main():\n",
    "  \n",
    "    # create a numpy array from scratch\n",
    "    # using arange function.\n",
    "    # 1024x720 = 737280 is the amount \n",
    "    # of pixels.\n",
    "    # np.uint8 is a data type containing\n",
    "    # numbers ranging from 0 to 255 \n",
    "    # and no non-negative integers\n",
    "    array = np.arange(0, 737280, 1, np.uint8)\n",
    "      \n",
    "    # check type of array\n",
    "    print(type(array))\n",
    "      \n",
    "    # our array will be of width \n",
    "    # 737280 pixels That means it \n",
    "    # will be a long dark line\n",
    "    print(array.shape)\n",
    "      \n",
    "    # Reshape the array into a \n",
    "    # familiar resoluition\n",
    "    array = np.reshape(array, (1024, 720))\n",
    "      \n",
    "    # show the shape of the array\n",
    "    print(array.shape)\n",
    "  \n",
    "    # show the array\n",
    "    print(array)\n",
    "      \n",
    "    # creating image object of\n",
    "    # above array\n",
    "    data = im.fromarray(array)\n",
    "      \n",
    "    # saving the final output \n",
    "    # as a PNG file\n",
    "    data.show()\n",
    "  \n",
    "# driver code\n",
    "if __name__ == \"__main__\":\n",
    "    \n",
    "  # function call\n",
    "  main()"
   ]
  },
  {
   "cell_type": "code",
   "execution_count": null,
   "id": "3d0ddcc9",
   "metadata": {},
   "outputs": [],
   "source": []
  }
 ],
 "metadata": {
  "kernelspec": {
   "display_name": "Python 3 (ipykernel)",
   "language": "python",
   "name": "python3"
  },
  "language_info": {
   "codemirror_mode": {
    "name": "ipython",
    "version": 3
   },
   "file_extension": ".py",
   "mimetype": "text/x-python",
   "name": "python",
   "nbconvert_exporter": "python",
   "pygments_lexer": "ipython3",
   "version": "3.9.12"
  }
 },
 "nbformat": 4,
 "nbformat_minor": 5
}
