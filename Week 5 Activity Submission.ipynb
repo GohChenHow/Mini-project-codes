{
 "cells": [
  {
   "cell_type": "markdown",
   "id": "282bd410",
   "metadata": {},
   "source": [
    "# Answer for activity"
   ]
  },
  {
   "cell_type": "code",
   "execution_count": 39,
   "id": "c96cdf9b",
   "metadata": {},
   "outputs": [
    {
     "data": {
      "text/plain": [
       "True"
      ]
     },
     "execution_count": 39,
     "metadata": {},
     "output_type": "execute_result"
    }
   ],
   "source": [
    "import sys\n",
    "# Python 3.7 is required\n",
    "assert sys.version_info >= (3,7)\n",
    "\n",
    "\n",
    "\n",
    "import cv2 as cv\n",
    "import numpy as np\n",
    "\n",
    "# For reproducibility,\n",
    "np.random.seed(99)\n",
    "\n",
    "# Make sure that optimization is enabled\n",
    "if not cv.useOptimized():\n",
    "    cv.setUseOptimized(True)\n",
    "\n",
    "cv.useOptimized()"
   ]
  },
  {
   "cell_type": "code",
   "execution_count": 40,
   "id": "74728575",
   "metadata": {},
   "outputs": [
    {
     "data": {
      "text/plain": [
       "'C:\\\\Users\\\\chenh\\\\Desktop\\\\y2s3\\\\UCCC2513 Mini Project\\\\Week 5'"
      ]
     },
     "execution_count": 40,
     "metadata": {},
     "output_type": "execute_result"
    }
   ],
   "source": [
    "%pwd"
   ]
  },
  {
   "cell_type": "code",
   "execution_count": 41,
   "id": "0b919753",
   "metadata": {},
   "outputs": [],
   "source": [
    "import os\n",
    "os.chdir(\"C:/Users/chenh/Desktop/y2s3/UCCC2513 Mini Project/Week 5\")"
   ]
  },
  {
   "cell_type": "markdown",
   "id": "aa117fda",
   "metadata": {},
   "source": [
    "# Question 1"
   ]
  },
  {
   "cell_type": "code",
   "execution_count": 42,
   "id": "db430907",
   "metadata": {},
   "outputs": [],
   "source": [
    "\n",
    "def crop_grid(img, num_horizontal_grid, num_vertical_grid,line_color):\n",
    "    \n",
    "    img_copy = img.copy()\n",
    "    height, width = img.shape[:2]\n",
    "\n",
    "\n",
    "    # M and N are basically number of pixels per patch\n",
    "    M, N = int(height/num_horizontal_grid), int(width/num_vertical_grid)\n",
    "\n",
    "    x1, y1 = 0, 0\n",
    "\n",
    "    for y in range(0, height, M):\n",
    "        for x in range(0, width, N):\n",
    "    #         if (height - y) < M or (width - x) < N:\n",
    "    #             break\n",
    "            \n",
    "            y1 = y + M    # lower right coordinate that will be used to construct rectangle\n",
    "            x1 = x + N\n",
    "        \n",
    "            # Check whether patch lower right coordinate exceeds image height and width\n",
    "            if x1 >= width and y1 >= height:\n",
    "                x1 = width - 1\n",
    "                y1 = height - 1\n",
    "                tile = img[y:height, x:width]\n",
    "                cv.rectangle(img_copy, (x, y), (x1, y1), line_color, 1)\n",
    "                cv.imshow('tile', tile)\n",
    "            # When patch lower right y-coordinate exceeds patch height\n",
    "            elif y1 >= height:\n",
    "                y1 = height - 1\n",
    "                cv.rectangle(img_copy, (x, y), (x1, y1), line_color, 1)\n",
    "            \n",
    "        # When patch lower right x-coordinate exceeds patch width\n",
    "            elif x1 >= width:\n",
    "                x1 = width - 1\n",
    "                cv.rectangle(img_copy, (x, y), (x1, y1), line_color, 1)\n",
    "        \n",
    "            else:\n",
    "                cv.rectangle(img_copy, (x, y), (x1, y1), line_color, 1)\n",
    "            \n",
    "    cv.imshow('patched image', img_copy)\n",
    "    cv.waitKey(0)\n",
    "    cv.destroyAllWindows()\n",
    "\n",
    "num_horizontal_patches = 2\n",
    "num_vertical_patches = 3\n",
    "img = cv.imread('dog.jfif')\n",
    "line_color=(255,255,0)\n",
    "crop_grid(img, num_horizontal_patches, num_vertical_patches,line_color)"
   ]
  },
  {
   "cell_type": "markdown",
   "id": "655aa15d",
   "metadata": {},
   "source": [
    "# Question 2"
   ]
  },
  {
   "cell_type": "code",
   "execution_count": 48,
   "id": "51230884",
   "metadata": {},
   "outputs": [],
   "source": [
    "img1 = cv.imread('lena.jfif')\n",
    "img2 = cv.imread('coins.jfif')\n",
    "\n",
    "# Resize img2\n",
    "new_shape = img1.shape[:2]\n",
    "img2 = cv.resize(img2, new_shape)\n",
    "\n",
    "dst = cv.addWeighted(img1, 0.8, img2, 0.25, 0)\n",
    "\n",
    "cv.imshow('image1', img1)\n",
    "cv.imshow('reshape_image2', img2)\n",
    "cv.imshow('blend_image', dst)\n",
    "cv.waitKey(0)\n",
    "cv.destroyAllWindows()"
   ]
  },
  {
   "cell_type": "markdown",
   "id": "36b15883",
   "metadata": {},
   "source": [
    "# Question 3"
   ]
  },
  {
   "cell_type": "code",
   "execution_count": 45,
   "id": "42f691d4",
   "metadata": {},
   "outputs": [],
   "source": [
    "import imutils\n",
    "img = cv.imread('lena.jfif')\n",
    "\n",
    "\n",
    "rotation = imutils.rotate_bound(img, 45)\n",
    "\n",
    "cv.imshow('rotated_image', rotation)\n",
    "cv.waitKey(0)\n",
    "cv.destroyAllWindows()"
   ]
  },
  {
   "cell_type": "markdown",
   "id": "27eaddbe",
   "metadata": {},
   "source": [
    "# Question 4"
   ]
  },
  {
   "cell_type": "code",
   "execution_count": 46,
   "id": "a9794705",
   "metadata": {},
   "outputs": [],
   "source": [
    "bee_img = cv.imread('native-bee.png')\n",
    "flower_img= cv.imread('flower.jfif')\n",
    "\n",
    "img = cv.cvtColor(flower_img, cv.COLOR_BGR2GRAY)\n",
    "\n",
    "a,b = flower_img.shape[:2]\n",
    "roi = bee_img[:a,:b]\n",
    "ret,flowthresh = cv.threshold(img,0,255,cv.THRESH_OTSU)\n",
    "\n",
    "res = cv.bitwise_and(flower_img,flower_img,mask=flowthresh)\n",
    "res2 = cv.add(roi,res)\n",
    "bee_img[:a,:b] = res2\n",
    "\n",
    "cv.imshow(\"flower_bee\",bee_img)\n",
    "\n",
    "\n",
    "cv.waitKey(0)\n",
    "cv.destroyAllWindows()"
   ]
  },
  {
   "cell_type": "code",
   "execution_count": null,
   "id": "85693d08",
   "metadata": {},
   "outputs": [],
   "source": []
  }
 ],
 "metadata": {
  "kernelspec": {
   "display_name": "Python 3 (ipykernel)",
   "language": "python",
   "name": "python3"
  },
  "language_info": {
   "codemirror_mode": {
    "name": "ipython",
    "version": 3
   },
   "file_extension": ".py",
   "mimetype": "text/x-python",
   "name": "python",
   "nbconvert_exporter": "python",
   "pygments_lexer": "ipython3",
   "version": "3.9.12"
  }
 },
 "nbformat": 4,
 "nbformat_minor": 5
}
